{
 "cells": [
  {
   "cell_type": "markdown",
   "id": "bd92f081-71f4-48c1-bb24-e4863ffea805",
   "metadata": {},
   "source": [
    "Data\n",
    "A total of 15 print-heads were randomly selected and tested until failure. \n",
    "The durability of each print-head (in millions of characters) was recorded as follows:\n",
    "1.13, 1.55, 1.43, 0.92, 1.25, 1.36, 1.32, 0.85, 1.07, 1.48, 1.20, 1.33, 1.18, 1.22, 1.29\n"
   ]
  },
  {
   "cell_type": "code",
   "execution_count": 1,
   "id": "5aef7f3c-77a7-4bf0-bb34-a486ffc42697",
   "metadata": {},
   "outputs": [],
   "source": [
    "Data = [1.13, 1.55,1.43, 0.92, 1.25, 1.36, 1.32, 0.85, 1.07, 1.48, 1.20, 1.33, 1.18, 1.22, 1.29]"
   ]
  },
  {
   "cell_type": "code",
   "execution_count": 3,
   "id": "3fd07867-2b75-4cdb-99bf-73ca2c9873c1",
   "metadata": {},
   "outputs": [],
   "source": [
    "from scipy import stats\n",
    "import numpy as np"
   ]
  },
  {
   "cell_type": "markdown",
   "id": "393ba9d7-72e8-40f3-b8bb-eb921da6aefb",
   "metadata": {},
   "source": [
    "a. Build 99% Confidence Interval Using Sample Standard Deviation"
   ]
  },
  {
   "cell_type": "code",
   "execution_count": 15,
   "id": "e005ed68-28eb-4a92-a20e-f47adb68f086",
   "metadata": {},
   "outputs": [],
   "source": [
    "Confidence_level = 0.99\n",
    "df = len(Data)-1\n",
    "Sample_mean = np.mean(Data)\n",
    "Sample_std = np.std(Data)"
   ]
  },
  {
   "cell_type": "code",
   "execution_count": 16,
   "id": "34b1b873-2131-4eba-9a57-aa6e92f1da71",
   "metadata": {},
   "outputs": [
    {
     "data": {
      "text/plain": [
       "(0.6831453080405262, 1.794188025292807)"
      ]
     },
     "execution_count": 16,
     "metadata": {},
     "output_type": "execute_result"
    }
   ],
   "source": [
    "stats.t.interval(Confidence_level, df, loc = Sample_mean , scale = Sample_std)"
   ]
  },
  {
   "cell_type": "markdown",
   "id": "9b04b03e-3864-47a9-8777-cb3c927e2075",
   "metadata": {},
   "source": [
    "b. Build 99% Confidence Interval Using Known Population Standard Deviation"
   ]
  },
  {
   "cell_type": "code",
   "execution_count": 17,
   "id": "7759ea61-3776-41cd-a061-95e20a351d0f",
   "metadata": {},
   "outputs": [],
   "source": [
    "Pop_std = 0.2"
   ]
  },
  {
   "cell_type": "code",
   "execution_count": 19,
   "id": "39b5249f-58cf-49c0-92b6-24f7d44fcc1b",
   "metadata": {},
   "outputs": [
    {
     "data": {
      "text/plain": [
       "(0.7235008059568865, 1.7538325273764466)"
      ]
     },
     "execution_count": 19,
     "metadata": {},
     "output_type": "execute_result"
    }
   ],
   "source": [
    "stats.norm.interval(Confidence_level, loc = Sample_mean , scale = Pop_std)"
   ]
  }
 ],
 "metadata": {
  "kernelspec": {
   "display_name": "Python 3 (ipykernel)",
   "language": "python",
   "name": "python3"
  },
  "language_info": {
   "codemirror_mode": {
    "name": "ipython",
    "version": 3
   },
   "file_extension": ".py",
   "mimetype": "text/x-python",
   "name": "python",
   "nbconvert_exporter": "python",
   "pygments_lexer": "ipython3",
   "version": "3.11.7"
  }
 },
 "nbformat": 4,
 "nbformat_minor": 5
}
