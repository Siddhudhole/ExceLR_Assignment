{
 "cells": [
  {
   "cell_type": "code",
   "execution_count": 1,
   "id": "6a853759-9de9-420f-8a6b-a05b3e810c75",
   "metadata": {},
   "outputs": [],
   "source": [
    "import pandas as pd"
   ]
  },
  {
   "cell_type": "code",
   "execution_count": 2,
   "id": "16bdae4b-be73-4b7f-82bf-bb6756e7ad61",
   "metadata": {},
   "outputs": [],
   "source": [
    "x = pd.DataFrame({\n",
    "    'Satisfaction':['Very Satisfied','Satisfied','Neutral','Unsatisfied','Very Unsatisfied','Total'],\n",
    "    'Smart Thermostat':[50,80,60,30,20,240],\n",
    "    'Smart Light':[70,100,90,50,50,360],\n",
    "    'Total':[120,180,150,80,70,600]\n",
    "})"
   ]
  },
  {
   "cell_type": "code",
   "execution_count": 3,
   "id": "e0515323-289b-4c71-a444-badf6a448c28",
   "metadata": {},
   "outputs": [
    {
     "data": {
      "text/html": [
       "<div>\n",
       "<style scoped>\n",
       "    .dataframe tbody tr th:only-of-type {\n",
       "        vertical-align: middle;\n",
       "    }\n",
       "\n",
       "    .dataframe tbody tr th {\n",
       "        vertical-align: top;\n",
       "    }\n",
       "\n",
       "    .dataframe thead th {\n",
       "        text-align: right;\n",
       "    }\n",
       "</style>\n",
       "<table border=\"1\" class=\"dataframe\">\n",
       "  <thead>\n",
       "    <tr style=\"text-align: right;\">\n",
       "      <th></th>\n",
       "      <th>Satisfaction</th>\n",
       "      <th>Smart Thermostat</th>\n",
       "      <th>Smart Light</th>\n",
       "      <th>Total</th>\n",
       "    </tr>\n",
       "  </thead>\n",
       "  <tbody>\n",
       "    <tr>\n",
       "      <th>0</th>\n",
       "      <td>Very Satisfied</td>\n",
       "      <td>50</td>\n",
       "      <td>70</td>\n",
       "      <td>120</td>\n",
       "    </tr>\n",
       "    <tr>\n",
       "      <th>1</th>\n",
       "      <td>Satisfied</td>\n",
       "      <td>80</td>\n",
       "      <td>100</td>\n",
       "      <td>180</td>\n",
       "    </tr>\n",
       "    <tr>\n",
       "      <th>2</th>\n",
       "      <td>Neutral</td>\n",
       "      <td>60</td>\n",
       "      <td>90</td>\n",
       "      <td>150</td>\n",
       "    </tr>\n",
       "    <tr>\n",
       "      <th>3</th>\n",
       "      <td>Unsatisfied</td>\n",
       "      <td>30</td>\n",
       "      <td>50</td>\n",
       "      <td>80</td>\n",
       "    </tr>\n",
       "    <tr>\n",
       "      <th>4</th>\n",
       "      <td>Very Unsatisfied</td>\n",
       "      <td>20</td>\n",
       "      <td>50</td>\n",
       "      <td>70</td>\n",
       "    </tr>\n",
       "    <tr>\n",
       "      <th>5</th>\n",
       "      <td>Total</td>\n",
       "      <td>240</td>\n",
       "      <td>360</td>\n",
       "      <td>600</td>\n",
       "    </tr>\n",
       "  </tbody>\n",
       "</table>\n",
       "</div>"
      ],
      "text/plain": [
       "       Satisfaction  Smart Thermostat  Smart Light  Total\n",
       "0    Very Satisfied                50           70    120\n",
       "1         Satisfied                80          100    180\n",
       "2           Neutral                60           90    150\n",
       "3       Unsatisfied                30           50     80\n",
       "4  Very Unsatisfied                20           50     70\n",
       "5             Total               240          360    600"
      ]
     },
     "execution_count": 3,
     "metadata": {},
     "output_type": "execute_result"
    }
   ],
   "source": [
    "# Observed Frequency Table\n",
    "x"
   ]
  },
  {
   "cell_type": "code",
   "execution_count": 12,
   "id": "65010023-4dc0-4533-aea7-02336d7a76ba",
   "metadata": {},
   "outputs": [],
   "source": [
    "# Expected Frequency\n",
    "# Expected Frequency for (Smart Thermostat):\n",
    "E11 = (240*120)/600"
   ]
  },
  {
   "cell_type": "code",
   "execution_count": 18,
   "id": "091e11a3-e521-4b25-ae9d-1179a2d90b9b",
   "metadata": {},
   "outputs": [
    {
     "name": "stdout",
     "output_type": "stream",
     "text": [
      "48.0\n",
      "72.0\n",
      "60.0\n",
      "32.0\n",
      "28.0\n",
      "240.0\n"
     ]
    }
   ],
   "source": [
    "for i in x['Total']:\n",
    "   print((240*i)/600)"
   ]
  },
  {
   "cell_type": "code",
   "execution_count": 19,
   "id": "2ec911f4-b5ac-4e5a-b9a1-1bcef7afb1f3",
   "metadata": {},
   "outputs": [],
   "source": [
    "# Expected Frequency for (Smart Light):\n",
    "E12 = (360*120)/600"
   ]
  },
  {
   "cell_type": "code",
   "execution_count": 21,
   "id": "1890ccf9-d7e2-489b-a649-b5fc2b8dd021",
   "metadata": {},
   "outputs": [
    {
     "name": "stdout",
     "output_type": "stream",
     "text": [
      "72.0\n",
      "108.0\n",
      "90.0\n",
      "48.0\n",
      "42.0\n",
      "360.0\n"
     ]
    }
   ],
   "source": [
    "for i in x['Total']:\n",
    "    print((360*i)/600)"
   ]
  },
  {
   "cell_type": "code",
   "execution_count": 23,
   "id": "737be3a7-1947-4139-a486-ab0a511355c5",
   "metadata": {},
   "outputs": [
    {
     "data": {
      "text/html": [
       "<div>\n",
       "<style scoped>\n",
       "    .dataframe tbody tr th:only-of-type {\n",
       "        vertical-align: middle;\n",
       "    }\n",
       "\n",
       "    .dataframe tbody tr th {\n",
       "        vertical-align: top;\n",
       "    }\n",
       "\n",
       "    .dataframe thead th {\n",
       "        text-align: right;\n",
       "    }\n",
       "</style>\n",
       "<table border=\"1\" class=\"dataframe\">\n",
       "  <thead>\n",
       "    <tr style=\"text-align: right;\">\n",
       "      <th></th>\n",
       "      <th>Satisfaction</th>\n",
       "      <th>Smart Thermostat</th>\n",
       "      <th>Smart Light</th>\n",
       "    </tr>\n",
       "  </thead>\n",
       "  <tbody>\n",
       "    <tr>\n",
       "      <th>0</th>\n",
       "      <td>Very Satisfied</td>\n",
       "      <td>48.0</td>\n",
       "      <td>72.0</td>\n",
       "    </tr>\n",
       "    <tr>\n",
       "      <th>1</th>\n",
       "      <td>Satisfied</td>\n",
       "      <td>72.0</td>\n",
       "      <td>108.0</td>\n",
       "    </tr>\n",
       "    <tr>\n",
       "      <th>2</th>\n",
       "      <td>Neutral</td>\n",
       "      <td>60.0</td>\n",
       "      <td>90.0</td>\n",
       "    </tr>\n",
       "    <tr>\n",
       "      <th>3</th>\n",
       "      <td>Unsatisfied</td>\n",
       "      <td>32.0</td>\n",
       "      <td>48.0</td>\n",
       "    </tr>\n",
       "    <tr>\n",
       "      <th>4</th>\n",
       "      <td>Very Unsatisfied</td>\n",
       "      <td>28.0</td>\n",
       "      <td>42.0</td>\n",
       "    </tr>\n",
       "  </tbody>\n",
       "</table>\n",
       "</div>"
      ],
      "text/plain": [
       "       Satisfaction  Smart Thermostat  Smart Light\n",
       "0    Very Satisfied              48.0         72.0\n",
       "1         Satisfied              72.0        108.0\n",
       "2           Neutral              60.0         90.0\n",
       "3       Unsatisfied              32.0         48.0\n",
       "4  Very Unsatisfied              28.0         42.0"
      ]
     },
     "execution_count": 23,
     "metadata": {},
     "output_type": "execute_result"
    }
   ],
   "source": [
    "# Expected Frequency Table\n",
    "pd.DataFrame({\n",
    "    'Satisfaction':['Very Satisfied','Satisfied','Neutral','Unsatisfied','Very Unsatisfied'],\n",
    "    'Smart Thermostat':[48.0,72.0,60.0,32.0,28.0],\n",
    "    'Smart Light':[72.0,108.0,90.0,48.0,42.0]\n",
    "})"
   ]
  },
  {
   "cell_type": "raw",
   "id": "988c1360-2ebf-4c2f-83dd-032393a16155",
   "metadata": {},
   "source": [
    "1]. State the Hypothesis:-\n",
    "        \n",
    "    H0(Null Hypothesis):- There is no significant association between the type of smart home device purchased (Smart Thermostats vs. Smart Lights) \n",
    "    and the customer satisfaction level. \n",
    "    HA(Alternate Hypothesis):- There is a significant association between the type of smart home device purchased (Smart Thermostats vs. Smart Lights)\n",
    "    and the customer satisfaction level."
   ]
  },
  {
   "cell_type": "code",
   "execution_count": 50,
   "id": "eb1ccf1c-ee28-439b-a929-cf1f3d6e7f7e",
   "metadata": {},
   "outputs": [],
   "source": [
    "# Observed Frequency \n",
    "Observed_Freq = [50,70,80,100,60,90,30,50,20,50]"
   ]
  },
  {
   "cell_type": "code",
   "execution_count": 51,
   "id": "bbfe8c0e-a5b9-42fa-b6b0-2aac7f0d9ec5",
   "metadata": {},
   "outputs": [],
   "source": [
    "# Expected Frequency\n",
    "Expected_Freq = [48,72,72,108,60,90,32,48,28,42]"
   ]
  },
  {
   "cell_type": "code",
   "execution_count": 52,
   "id": "bd3131a1-4649-446d-b5d6-7a91251922c7",
   "metadata": {},
   "outputs": [],
   "source": [
    "import numpy as np\n",
    "import scipy.stats as stat"
   ]
  },
  {
   "cell_type": "code",
   "execution_count": 53,
   "id": "8502e9f0-9923-4a7f-ab1f-899d26172414",
   "metadata": {},
   "outputs": [],
   "source": [
    "chisquare_test_statistics,p_value = stat.chisquare(Observed_Freq,Expected_Freq)"
   ]
  },
  {
   "cell_type": "code",
   "execution_count": 55,
   "id": "b64a6165-588d-4f0b-830b-70a3dd938275",
   "metadata": {},
   "outputs": [
    {
     "data": {
      "text/plain": [
       "(5.638227513227513, 0.7755084888723772)"
      ]
     },
     "execution_count": 55,
     "metadata": {},
     "output_type": "execute_result"
    }
   ],
   "source": [
    "# 2]. Compute the Chi-Square Statistic:\n",
    "chisquare_test_statistics,p_value"
   ]
  },
  {
   "cell_type": "code",
   "execution_count": 61,
   "id": "dc5cce2e-0fc5-419a-b026-615464599e24",
   "metadata": {},
   "outputs": [
    {
     "data": {
      "text/plain": [
       "9.487729036781154"
      ]
     },
     "execution_count": 61,
     "metadata": {},
     "output_type": "execute_result"
    }
   ],
   "source": [
    "# 3]. Determine the Critical Value:\n",
    "# Using the significance level (alpha) of 0.05 and the degrees of freedom (which is the number of categories minus 1)\n",
    "significance_level = 0.05\n",
    "dof = 4\n",
    "Critical_value = stat.chi2.ppf(1-significance_level,dof)\n",
    "Critical_value"
   ]
  },
  {
   "cell_type": "code",
   "execution_count": 62,
   "id": "0996d46c-0def-48dd-a41c-cb8b7d1ddc50",
   "metadata": {},
   "outputs": [
    {
     "name": "stdout",
     "output_type": "stream",
     "text": [
      "Fail to reject null hypothesis\n"
     ]
    }
   ],
   "source": [
    "# 4]. Make a Decision:\n",
    "if chisquare_test_statistics > Critical_value:\n",
    "    print('Reject the null hypothesis')\n",
    "else:\n",
    "    print('Fail to reject null hypothesis')"
   ]
  },
  {
   "cell_type": "markdown",
   "id": "f8a46dcf-7046-4f5f-ac38-65f77d688991",
   "metadata": {},
   "source": [
    "# Conclusion:-\n",
    "There is no significant association between the type of smart home device purchased (Smart Thermostats vs. Smart Lights) \n",
    " and the customer satisfaction level. "
   ]
  },
  {
   "cell_type": "code",
   "execution_count": null,
   "id": "25172ac3-fdb4-4850-a6e7-a257c948d7bb",
   "metadata": {},
   "outputs": [],
   "source": []
  },
  {
   "cell_type": "code",
   "execution_count": null,
   "id": "68dbc2a4-5d59-43bb-9c63-2783251cfda4",
   "metadata": {},
   "outputs": [],
   "source": []
  }
 ],
 "metadata": {
  "kernelspec": {
   "display_name": "Python 3 (ipykernel)",
   "language": "python",
   "name": "python3"
  },
  "language_info": {
   "codemirror_mode": {
    "name": "ipython",
    "version": 3
   },
   "file_extension": ".py",
   "mimetype": "text/x-python",
   "name": "python",
   "nbconvert_exporter": "python",
   "pygments_lexer": "ipython3",
   "version": "3.11.7"
  }
 },
 "nbformat": 4,
 "nbformat_minor": 5
}
