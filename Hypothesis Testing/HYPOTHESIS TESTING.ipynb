{
 "cells": [
  {
   "cell_type": "code",
   "execution_count": 1,
   "id": "f730e52b-f897-4cc4-8530-b8926ab9e9ff",
   "metadata": {},
   "outputs": [],
   "source": [
    "import numpy as np\n",
    "from scipy import stats"
   ]
  },
  {
   "cell_type": "code",
   "execution_count": 5,
   "id": "e0d36413-80d6-48bd-ab43-5d009e33a6fb",
   "metadata": {},
   "outputs": [],
   "source": [
    "sample_mean = 3050\n",
    "pop_mean = 4000 # (Theoretical mean)\n",
    "pop_std = 125\n",
    "sample_size = 25\n",
    "alpha = 0.05"
   ]
  },
  {
   "cell_type": "markdown",
   "id": "110a87a7-222f-4c38-929a-a0ff76bcd309",
   "metadata": {},
   "source": [
    "1]. State the Hypotheses statement:- \n",
    "   \n",
    "   H0(Null Hypothesis):- Theoretical mean = 4000 (The mean weekly operating cost is equal to theoretical mean weekly operating cost).\n",
    "  \n",
    "   HA(Alternate Hypothesis):- Theoretical mean > 4000(The mean weekly operating cost is greater than theoretical mean weekly operating cost)"
   ]
  },
  {
   "cell_type": "markdown",
   "id": "6f60ee3d-9cac-441a-8969-5c53b98bb9a6",
   "metadata": {},
   "source": [
    "2]. Calculate the Test Statistic:-"
   ]
  },
  {
   "cell_type": "code",
   "execution_count": 8,
   "id": "f33e1c2e-8f85-4f6b-a010-228a27107473",
   "metadata": {},
   "outputs": [
    {
     "data": {
      "text/plain": [
       "-38.0"
      ]
     },
     "execution_count": 8,
     "metadata": {},
     "output_type": "execute_result"
    }
   ],
   "source": [
    "test_statistic = (sample_mean - pop_mean)/(pop_std/np.sqrt(sample_size))\n",
    "test_statistic"
   ]
  },
  {
   "cell_type": "markdown",
   "id": "280957c6-4a06-4010-8349-52a962e37a7b",
   "metadata": {},
   "source": [
    "3]. Determine the Critical Value:-"
   ]
  },
  {
   "cell_type": "code",
   "execution_count": 14,
   "id": "4a69d5e8-7f52-4ebd-b2e9-93b550cef6b2",
   "metadata": {},
   "outputs": [
    {
     "data": {
      "text/plain": [
       "1.6448536269514722"
      ]
     },
     "execution_count": 14,
     "metadata": {},
     "output_type": "execute_result"
    }
   ],
   "source": [
    "critical_value = stats.norm.ppf(1-alpha)\n",
    "critical_value"
   ]
  },
  {
   "cell_type": "markdown",
   "id": "daef48da-67b7-43fe-9c05-a16a95b69bcd",
   "metadata": {},
   "source": [
    "4]. Make a Decision:-"
   ]
  },
  {
   "cell_type": "code",
   "execution_count": 22,
   "id": "ccdde4c9-8f38-4e97-b994-2af9d4679daf",
   "metadata": {},
   "outputs": [
    {
     "name": "stdout",
     "output_type": "stream",
     "text": [
      "Fail to reject null hypothesis:- There is no strong evidence to support the restaurant owners' claim that the weekly operating costs are higher than the model suggests.\n"
     ]
    }
   ],
   "source": [
    "if test_statistic > critical_value:\n",
    "    print(\"Reject the null hypothesis:- There is strong evidence to support the restaurant owners' claim that the weekly operating costs are higher than the model suggests.\")\n",
    "else:\n",
    "    print(\"Fail to reject null hypothesis:- There is no strong evidence to support the restaurant owners' claim that the weekly operating costs are higher than the model suggests.\")\n"
   ]
  },
  {
   "cell_type": "markdown",
   "id": "d9b37def-fafc-4d24-9114-d7606ba7aa30",
   "metadata": {},
   "source": [
    "5]. Conclusion:-"
   ]
  },
  {
   "cell_type": "code",
   "execution_count": 24,
   "id": "4d676b0c-be2d-4a76-80cc-5d709c9ce3f6",
   "metadata": {},
   "outputs": [],
   "source": [
    "#Fail to reject null hypothesis:- There is no strong evidence to support the restaurant owners' claim that the weekly operating costs are higher than the model suggests."
   ]
  },
  {
   "cell_type": "code",
   "execution_count": null,
   "id": "b99f5515-cb04-40a1-84d7-b9de5d93cf15",
   "metadata": {},
   "outputs": [],
   "source": []
  }
 ],
 "metadata": {
  "kernelspec": {
   "display_name": "Python 3 (ipykernel)",
   "language": "python",
   "name": "python3"
  },
  "language_info": {
   "codemirror_mode": {
    "name": "ipython",
    "version": 3
   },
   "file_extension": ".py",
   "mimetype": "text/x-python",
   "name": "python",
   "nbconvert_exporter": "python",
   "pygments_lexer": "ipython3",
   "version": "3.11.7"
  }
 },
 "nbformat": 4,
 "nbformat_minor": 5
}
