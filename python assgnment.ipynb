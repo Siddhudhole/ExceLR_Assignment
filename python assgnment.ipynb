{
 "cells": [
  {
   "cell_type": "markdown",
   "id": "2ac826fe-bc29-4f56-972d-1a9d6c557c46",
   "metadata": {},
   "source": [
    "Exercise 1: Prime Numbers\n",
    "Write a Python program that checks whether a given number is prime or not. A prime number is a natural number greater than 1 \n",
    "that has no positive divisors other than 1 and itself.\n"
   ]
  },
  {
   "cell_type": "code",
   "execution_count": 12,
   "id": "2b4a9b54-3ef0-44a7-ac37-9979c960d3c2",
   "metadata": {},
   "outputs": [
    {
     "name": "stdin",
     "output_type": "stream",
     "text": [
      "Enter the number: 55\n"
     ]
    },
    {
     "name": "stdout",
     "output_type": "stream",
     "text": [
      "It is not a prime number: 55\n"
     ]
    }
   ],
   "source": [
    "num=int(input(\"Enter the number:\"))\n",
    "if num>1:\n",
    "    for i in range (2,num):\n",
    "        if (num%i)==0:\n",
    "            print('It is not a prime number:',num)\n",
    "            break\n",
    "    else:\n",
    "        print('it is a prime number',num)\n",
    "else:\n",
    "    print('It is not a prime number:',num)"
   ]
  },
  {
   "cell_type": "markdown",
   "id": "f90d806f-4def-412d-848c-acc661493142",
   "metadata": {},
   "source": [
    "Exercise 2: Product of Random Numbers\r\n",
    "Develop a Python program that generates two random numbers and asks the user to enter the product of these numbers.\n",
    " The program should then check if the user's answer is correct and display an appropriate message.\r\n",
    "\r\n"
   ]
  },
  {
   "cell_type": "code",
   "execution_count": 13,
   "id": "c139a2df-b235-466b-b18b-ed8e54be616f",
   "metadata": {},
   "outputs": [
    {
     "name": "stdout",
     "output_type": "stream",
     "text": [
      "Calculate the product of 9 and 10.\n"
     ]
    },
    {
     "name": "stdin",
     "output_type": "stream",
     "text": [
      "Your answer:  6\n"
     ]
    },
    {
     "name": "stdout",
     "output_type": "stream",
     "text": [
      "Incorrect. The correct answer is 90.\n"
     ]
    }
   ],
   "source": [
    "import random\n",
    "\n",
    "def product_of_random_numbers():\n",
    "    num1 = random.randint(1, 10)\n",
    "    num2 = random.randint(1, 10)\n",
    "    correct_answer = num1 * num2\n",
    "    \n",
    "    print(f\"Calculate the product of {num1} and {num2}.\")\n",
    "    user_answer = int(input(\"Your answer: \"))\n",
    "    \n",
    "    if user_answer == correct_answer:\n",
    "        print(\"Correct! Well done.\")\n",
    "    else:\n",
    "        print(f\"Incorrect. The correct answer is {correct_answer}.\")\n",
    "\n",
    "# Example usage\n",
    "product_of_random_numbers()"
   ]
  },
  {
   "cell_type": "markdown",
   "id": "c6b35189-8290-4f2c-ba86-d4f61545c952",
   "metadata": {},
   "source": [
    "Exercise 3: Squares of Even/Odd Numbers\n",
    "Create a Python script that prints the squares of all even or odd numbers within the range of 100 to 200. Choose either even\n",
    "or odd numbers and document your choice in the code.\n"
   ]
  },
  {
   "cell_type": "code",
   "execution_count": 10,
   "id": "08215e28-b237-44f2-9778-aeed7c1acb62",
   "metadata": {},
   "outputs": [
    {
     "name": "stdout",
     "output_type": "stream",
     "text": [
      "The square of 100 is 10000\n",
      "The square of 101 is 10201\n",
      "The square of 102 is 10404\n",
      "The square of 103 is 10609\n",
      "The square of 104 is 10816\n",
      "The square of 105 is 11025\n",
      "The square of 106 is 11236\n",
      "The square of 107 is 11449\n",
      "The square of 108 is 11664\n",
      "The square of 109 is 11881\n",
      "The square of 110 is 12100\n",
      "The square of 111 is 12321\n",
      "The square of 112 is 12544\n",
      "The square of 113 is 12769\n",
      "The square of 114 is 12996\n",
      "The square of 115 is 13225\n",
      "The square of 116 is 13456\n",
      "The square of 117 is 13689\n",
      "The square of 118 is 13924\n",
      "The square of 119 is 14161\n",
      "The square of 120 is 14400\n",
      "The square of 121 is 14641\n",
      "The square of 122 is 14884\n",
      "The square of 123 is 15129\n",
      "The square of 124 is 15376\n",
      "The square of 125 is 15625\n",
      "The square of 126 is 15876\n",
      "The square of 127 is 16129\n",
      "The square of 128 is 16384\n",
      "The square of 129 is 16641\n",
      "The square of 130 is 16900\n",
      "The square of 131 is 17161\n",
      "The square of 132 is 17424\n",
      "The square of 133 is 17689\n",
      "The square of 134 is 17956\n",
      "The square of 135 is 18225\n",
      "The square of 136 is 18496\n",
      "The square of 137 is 18769\n",
      "The square of 138 is 19044\n",
      "The square of 139 is 19321\n",
      "The square of 140 is 19600\n",
      "The square of 141 is 19881\n",
      "The square of 142 is 20164\n",
      "The square of 143 is 20449\n",
      "The square of 144 is 20736\n",
      "The square of 145 is 21025\n",
      "The square of 146 is 21316\n",
      "The square of 147 is 21609\n",
      "The square of 148 is 21904\n",
      "The square of 149 is 22201\n",
      "The square of 150 is 22500\n",
      "The square of 151 is 22801\n",
      "The square of 152 is 23104\n",
      "The square of 153 is 23409\n",
      "The square of 154 is 23716\n",
      "The square of 155 is 24025\n",
      "The square of 156 is 24336\n",
      "The square of 157 is 24649\n",
      "The square of 158 is 24964\n",
      "The square of 159 is 25281\n",
      "The square of 160 is 25600\n",
      "The square of 161 is 25921\n",
      "The square of 162 is 26244\n",
      "The square of 163 is 26569\n",
      "The square of 164 is 26896\n",
      "The square of 165 is 27225\n",
      "The square of 166 is 27556\n",
      "The square of 167 is 27889\n",
      "The square of 168 is 28224\n",
      "The square of 169 is 28561\n",
      "The square of 170 is 28900\n",
      "The square of 171 is 29241\n",
      "The square of 172 is 29584\n",
      "The square of 173 is 29929\n",
      "The square of 174 is 30276\n",
      "The square of 175 is 30625\n",
      "The square of 176 is 30976\n",
      "The square of 177 is 31329\n",
      "The square of 178 is 31684\n",
      "The square of 179 is 32041\n",
      "The square of 180 is 32400\n",
      "The square of 181 is 32761\n",
      "The square of 182 is 33124\n",
      "The square of 183 is 33489\n",
      "The square of 184 is 33856\n",
      "The square of 185 is 34225\n",
      "The square of 186 is 34596\n",
      "The square of 187 is 34969\n",
      "The square of 188 is 35344\n",
      "The square of 189 is 35721\n",
      "The square of 190 is 36100\n",
      "The square of 191 is 36481\n",
      "The square of 192 is 36864\n",
      "The square of 193 is 37249\n",
      "The square of 194 is 37636\n",
      "The square of 195 is 38025\n",
      "The square of 196 is 38416\n",
      "The square of 197 is 38809\n",
      "The square of 198 is 39204\n",
      "The square of 199 is 39601\n",
      "The square of 200 is 40000\n"
     ]
    }
   ],
   "source": [
    "for num in range(100, 201):\n",
    "        if num % 2 == 0:\n",
    "            print(f\"The square of {num} is {num ** 2}\")\n",
    "        else:\n",
    "            print(f\"The square of {num} is {num ** 2}\")\n"
   ]
  },
  {
   "cell_type": "markdown",
   "id": "6715b2ad-2f20-4a5d-9a38-5dcfbfd3faa7",
   "metadata": {},
   "source": [
    "Exercise 4: Word counter\n",
    "write a program to count the number of words in a given text.\n",
    "example:\n",
    "input_text = \"This is a sample text. This text will be used to demonstrate the word counter.\"\n",
    "Expected output:\n",
    "'This': 2 \n",
    "'is': 1\n",
    "'a': 1\n",
    "'sample': 1\r\n",
    "'text.': 1\r\n",
    "\n"
   ]
  },
  {
   "cell_type": "code",
   "execution_count": 14,
   "id": "d54b1745-79eb-4c0b-b518-5f0b18540d25",
   "metadata": {},
   "outputs": [
    {
     "name": "stdout",
     "output_type": "stream",
     "text": [
      "This is a sample text. This text will be used to demonstrate the word counter.\n",
      "{'This': 2, 'is': 3, 'a': 3, 'sample': 1, 'text.': 1, 'text': 2, 'will': 1, 'be': 1, 'used': 1, 'to': 1, 'demonstrate': 1, 'the': 1, 'word': 1, 'counter.': 1}\n"
     ]
    }
   ],
   "source": [
    "string=\"This is a sample text. This text will be used to demonstrate the word counter.\"\n",
    "print(string)\n",
    "#dictionary and count() and split()\n",
    "word={key: string.count(key) for key in string.split()}\n",
    "print(word)\n",
    "    "
   ]
  },
  {
   "cell_type": "markdown",
   "id": "4459bd62-ed9f-4945-97ea-821292e2b7a9",
   "metadata": {},
   "source": [
    "Exercise 5: Check for Palindrome\r\n",
    "Write a Python function called is_palindrome that takes a string as input and returns True if the string is a palindrome, and False otherwise. A palindrome is a word, phrase, number, or other sequence of characters that reads the same forward and backward, ignoring spaces, punctuation, and capitalization.\r\n",
    "Example:\r\n",
    "Input: \"racecar\"\r\n",
    "Expected Output: True\r\n"
   ]
  },
  {
   "cell_type": "code",
   "execution_count": 11,
   "id": "57be1cb8-331f-416d-bb16-5a32d9c89f2e",
   "metadata": {},
   "outputs": [
    {
     "name": "stdout",
     "output_type": "stream",
     "text": [
      "True\n"
     ]
    }
   ],
   "source": [
    "a=\"racecar\"\n",
    "b=a[::-1]\n",
    "if a==b:\n",
    "    print(True)\n",
    "else:\n",
    "    (False)"
   ]
  },
  {
   "cell_type": "code",
   "execution_count": null,
   "id": "1e170536-f35b-427d-88ae-39db1ccf5ad7",
   "metadata": {},
   "outputs": [],
   "source": []
  }
 ],
 "metadata": {
  "kernelspec": {
   "display_name": "Python 3 (ipykernel)",
   "language": "python",
   "name": "python3"
  },
  "language_info": {
   "codemirror_mode": {
    "name": "ipython",
    "version": 3
   },
   "file_extension": ".py",
   "mimetype": "text/x-python",
   "name": "python",
   "nbconvert_exporter": "python",
   "pygments_lexer": "ipython3",
   "version": "3.11.7"
  }
 },
 "nbformat": 4,
 "nbformat_minor": 5
}
